{
 "cells": [
  {
   "cell_type": "code",
   "execution_count": 1,
   "metadata": {},
   "outputs": [
    {
     "data": {
      "text/html": [
       "<div>\n",
       "<style scoped>\n",
       "    .dataframe tbody tr th:only-of-type {\n",
       "        vertical-align: middle;\n",
       "    }\n",
       "\n",
       "    .dataframe tbody tr th {\n",
       "        vertical-align: top;\n",
       "    }\n",
       "\n",
       "    .dataframe thead th {\n",
       "        text-align: right;\n",
       "    }\n",
       "</style>\n",
       "<table border=\"1\" class=\"dataframe\">\n",
       "  <thead>\n",
       "    <tr style=\"text-align: right;\">\n",
       "      <th></th>\n",
       "      <th>Unnamed: 0</th>\n",
       "      <th>address</th>\n",
       "      <th>name</th>\n",
       "      <th>online_order</th>\n",
       "      <th>book_table</th>\n",
       "      <th>rate</th>\n",
       "      <th>votes</th>\n",
       "      <th>location</th>\n",
       "      <th>rest_type</th>\n",
       "      <th>dish_liked</th>\n",
       "      <th>cuisines</th>\n",
       "      <th>approx_cost(for two people)</th>\n",
       "      <th>reviews_list</th>\n",
       "      <th>listed_in(type)</th>\n",
       "      <th>listed_in(city)</th>\n",
       "    </tr>\n",
       "  </thead>\n",
       "  <tbody>\n",
       "    <tr>\n",
       "      <td>23254</td>\n",
       "      <td>51705</td>\n",
       "      <td>2nd Floor, Iona, Virginia Mall, Whitefield Mai...</td>\n",
       "      <td>Izakaya Gastro Pub</td>\n",
       "      <td>Yes</td>\n",
       "      <td>Yes</td>\n",
       "      <td>3.8</td>\n",
       "      <td>128</td>\n",
       "      <td>Whitefield</td>\n",
       "      <td>Bar, Casual Dining</td>\n",
       "      <td>Beer, Chicken Guntur, Paneer Tikka, Fish, Nood...</td>\n",
       "      <td>North Indian, Continental, Mediterranean</td>\n",
       "      <td>1200.0</td>\n",
       "      <td>[('Rated 3.0', \"RATED\\n  Nice place to hangout...</td>\n",
       "      <td>Pubs and bars</td>\n",
       "      <td>Whitefield</td>\n",
       "    </tr>\n",
       "    <tr>\n",
       "      <td>23255</td>\n",
       "      <td>51707</td>\n",
       "      <td>Bengaluru Marriott Hotel, 75, 8th Road, EPIP A...</td>\n",
       "      <td>M Bar - Bengaluru Marriott Hotel Whitefield</td>\n",
       "      <td>No</td>\n",
       "      <td>No</td>\n",
       "      <td>3.9</td>\n",
       "      <td>77</td>\n",
       "      <td>Whitefield</td>\n",
       "      <td>Fine Dining, Bar</td>\n",
       "      <td>Rooftop Ambience</td>\n",
       "      <td>Finger Food</td>\n",
       "      <td>2000.0</td>\n",
       "      <td>[('Rated 4.0', 'RATED\\n  Went there post dinne...</td>\n",
       "      <td>Pubs and bars</td>\n",
       "      <td>Whitefield</td>\n",
       "    </tr>\n",
       "    <tr>\n",
       "      <td>23256</td>\n",
       "      <td>51708</td>\n",
       "      <td>Keys Hotel, 6, 1st Phase Industrial Area, Near...</td>\n",
       "      <td>Keys Cafe - Keys Hotel</td>\n",
       "      <td>No</td>\n",
       "      <td>No</td>\n",
       "      <td>2.8</td>\n",
       "      <td>161</td>\n",
       "      <td>Whitefield</td>\n",
       "      <td>Casual Dining, Bar</td>\n",
       "      <td>Salads, Coffee, Breakfast Buffet, Halwa, Chick...</td>\n",
       "      <td>Chinese, Continental, North Indian</td>\n",
       "      <td>1200.0</td>\n",
       "      <td>[('Rated 3.0', 'RATED\\n  Place is good not tha...</td>\n",
       "      <td>Pubs and bars</td>\n",
       "      <td>Whitefield</td>\n",
       "    </tr>\n",
       "    <tr>\n",
       "      <td>23257</td>\n",
       "      <td>51711</td>\n",
       "      <td>139/C1, Next To GR Tech Park, Pattandur Agraha...</td>\n",
       "      <td>Bhagini</td>\n",
       "      <td>No</td>\n",
       "      <td>No</td>\n",
       "      <td>2.5</td>\n",
       "      <td>81</td>\n",
       "      <td>Whitefield</td>\n",
       "      <td>Casual Dining, Bar</td>\n",
       "      <td>Biryani, Andhra Meal</td>\n",
       "      <td>Andhra, South Indian, Chinese, North Indian</td>\n",
       "      <td>800.0</td>\n",
       "      <td>[('Rated 4.0', 'RATED\\n  A fine place to chill...</td>\n",
       "      <td>Pubs and bars</td>\n",
       "      <td>Whitefield</td>\n",
       "    </tr>\n",
       "    <tr>\n",
       "      <td>23258</td>\n",
       "      <td>51715</td>\n",
       "      <td>Sheraton Grand Bengaluru Whitefield Hotel &amp; Co...</td>\n",
       "      <td>Chime - Sheraton Grand Bengaluru Whitefield Ho...</td>\n",
       "      <td>No</td>\n",
       "      <td>Yes</td>\n",
       "      <td>4.3</td>\n",
       "      <td>236</td>\n",
       "      <td>ITPL Main Road, Whitefield</td>\n",
       "      <td>Bar</td>\n",
       "      <td>Cocktails, Pizza, Buttermilk</td>\n",
       "      <td>Finger Food</td>\n",
       "      <td>2500.0</td>\n",
       "      <td>[('Rated 4.0', 'RATED\\n  Nice and friendly pla...</td>\n",
       "      <td>Pubs and bars</td>\n",
       "      <td>Whitefield</td>\n",
       "    </tr>\n",
       "  </tbody>\n",
       "</table>\n",
       "</div>"
      ],
      "text/plain": [
       "       Unnamed: 0                                            address  \\\n",
       "23254       51705  2nd Floor, Iona, Virginia Mall, Whitefield Mai...   \n",
       "23255       51707  Bengaluru Marriott Hotel, 75, 8th Road, EPIP A...   \n",
       "23256       51708  Keys Hotel, 6, 1st Phase Industrial Area, Near...   \n",
       "23257       51711  139/C1, Next To GR Tech Park, Pattandur Agraha...   \n",
       "23258       51715  Sheraton Grand Bengaluru Whitefield Hotel & Co...   \n",
       "\n",
       "                                                    name online_order  \\\n",
       "23254                                 Izakaya Gastro Pub          Yes   \n",
       "23255        M Bar - Bengaluru Marriott Hotel Whitefield           No   \n",
       "23256                             Keys Cafe - Keys Hotel           No   \n",
       "23257                                            Bhagini           No   \n",
       "23258  Chime - Sheraton Grand Bengaluru Whitefield Ho...           No   \n",
       "\n",
       "      book_table  rate  votes                    location           rest_type  \\\n",
       "23254        Yes   3.8    128                  Whitefield  Bar, Casual Dining   \n",
       "23255         No   3.9     77                  Whitefield    Fine Dining, Bar   \n",
       "23256         No   2.8    161                  Whitefield  Casual Dining, Bar   \n",
       "23257         No   2.5     81                  Whitefield  Casual Dining, Bar   \n",
       "23258        Yes   4.3    236  ITPL Main Road, Whitefield                 Bar   \n",
       "\n",
       "                                              dish_liked  \\\n",
       "23254  Beer, Chicken Guntur, Paneer Tikka, Fish, Nood...   \n",
       "23255                                   Rooftop Ambience   \n",
       "23256  Salads, Coffee, Breakfast Buffet, Halwa, Chick...   \n",
       "23257                               Biryani, Andhra Meal   \n",
       "23258                       Cocktails, Pizza, Buttermilk   \n",
       "\n",
       "                                          cuisines  \\\n",
       "23254     North Indian, Continental, Mediterranean   \n",
       "23255                                  Finger Food   \n",
       "23256           Chinese, Continental, North Indian   \n",
       "23257  Andhra, South Indian, Chinese, North Indian   \n",
       "23258                                  Finger Food   \n",
       "\n",
       "       approx_cost(for two people)  \\\n",
       "23254                       1200.0   \n",
       "23255                       2000.0   \n",
       "23256                       1200.0   \n",
       "23257                        800.0   \n",
       "23258                       2500.0   \n",
       "\n",
       "                                            reviews_list listed_in(type)  \\\n",
       "23254  [('Rated 3.0', \"RATED\\n  Nice place to hangout...   Pubs and bars   \n",
       "23255  [('Rated 4.0', 'RATED\\n  Went there post dinne...   Pubs and bars   \n",
       "23256  [('Rated 3.0', 'RATED\\n  Place is good not tha...   Pubs and bars   \n",
       "23257  [('Rated 4.0', 'RATED\\n  A fine place to chill...   Pubs and bars   \n",
       "23258  [('Rated 4.0', 'RATED\\n  Nice and friendly pla...   Pubs and bars   \n",
       "\n",
       "      listed_in(city)  \n",
       "23254      Whitefield  \n",
       "23255      Whitefield  \n",
       "23256      Whitefield  \n",
       "23257      Whitefield  \n",
       "23258      Whitefield  "
      ]
     },
     "execution_count": 1,
     "metadata": {},
     "output_type": "execute_result"
    }
   ],
   "source": [
    "import pandas as pd\n",
    "import matplotlib.pyplot as plt\n",
    "import numpy as np\n",
    "\n",
    "df = pd.read_csv('zomato_clean.csv')\n",
    "df.tail()"
   ]
  },
  {
   "cell_type": "code",
   "execution_count": 2,
   "metadata": {},
   "outputs": [],
   "source": [
    "rating = []\n",
    "votes = []\n",
    "cost =[]\n",
    "\n",
    "\n",
    "rating = df['rate'].tolist()\n",
    "votes = df['votes'].tolist()\n",
    "cost = df['approx_cost(for two people)'].tolist()"
   ]
  },
  {
   "cell_type": "code",
   "execution_count": 3,
   "metadata": {},
   "outputs": [
    {
     "data": {
      "text/plain": [
       "<matplotlib.collections.PathCollection at 0x20528b5be48>"
      ]
     },
     "execution_count": 3,
     "metadata": {},
     "output_type": "execute_result"
    },
    {
     "data": {
      "image/png": "[encoded data removed]",
      "text/plain": [
       "<Figure size 432x288 with 1 Axes>"
      ]
     },
     "metadata": {
      "needs_background": "light"
     },
     "output_type": "display_data"
    }
   ],
   "source": [
    "plt.scatter(rating,votes)"
   ]
  },
  {
   "cell_type": "code",
   "execution_count": 4,
   "metadata": {},
   "outputs": [],
   "source": [
    "#Pearson's correlation coefficient = covariance(X, Y) / (stdv(X) * stdv(Y))\n",
    "\n",
    "stdev_rating = np.std(rating)\n",
    "stdev_votes = np.std(votes)\n",
    "stdev_cost = np.std(cost)\n",
    "\n",
    "mean_rating = np.mean(rating)\n",
    "mean_votes = np.mean(votes)\n",
    "mean_cost = np.mean(cost)\n",
    "\n",
    "n = len(rating)"
   ]
  },
  {
   "cell_type": "code",
   "execution_count": 13,
   "metadata": {},
   "outputs": [
    {
     "name": "stdout",
     "output_type": "stream",
     "text": [
      "0.3818161726334534\n"
     ]
    }
   ],
   "source": [
    "#covariance for rating and votes\n",
    "\n",
    "cov_rate_vote=0\n",
    "for i in range(len(rating)):\n",
    "    cov_rate_vote+= ((rating[i]-mean_rating)/stdev_rating)*((votes[i]-mean_votes)/stdev_votes)\n",
    "    \n",
    "    \n",
    "cov_rate_vote = cov_rate_vote*(1/(n-1))\n",
    "print(float(cov_rate_vote))"
   ]
  },
  {
   "cell_type": "code",
   "execution_count": null,
   "metadata": {},
   "outputs": [],
   "source": []
  },
  {
   "cell_type": "code",
   "execution_count": null,
   "metadata": {},
   "outputs": [],
   "source": []
  }
 ],
 "metadata": {
  "kernelspec": {
   "display_name": "Python 3",
   "language": "python",
   "name": "python3"
  },
  "language_info": {
   "codemirror_mode": {
    "name": "ipython",
    "version": 3
   },
   "file_extension": ".py",
   "mimetype": "text/x-python",
   "name": "python",
   "nbconvert_exporter": "python",
   "pygments_lexer": "ipython3",
   "version": "3.7.4"
  }
 },
 "nbformat": 4,
 "nbformat_minor": 4
}
